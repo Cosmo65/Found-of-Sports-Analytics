{
 "cells": [
  {
   "cell_type": "markdown",
   "metadata": {},
   "source": [
    "# English Premier League (EPL) Pythagorean Predictor"
   ]
  },
  {
   "cell_type": "markdown",
   "metadata": {},
   "source": [
    "These are the steps you need to take to complete the assignment.:\n",
    "    \n",
    "    1- Load the datafile (this contains 6 variables: the date, home team, away team, goals scored (FTHG), \n",
    "    goals against (FTAG) andthe result (H- home win, D- draw, A – away win).\n",
    "\n",
    "    2- Create a value for a home wins (win= 1, draw=0.5, loss= 0) and away wins and a count variable for each game (=1).\n",
    "\n",
    "    3- Create a file for games played in 2017 (before date 20180000) and another one for games played in 2018 (after date 20180000).\n",
    "    For the 2017 games, use .groupby to create a dataframe aggregating by home team the variables for count, home wins, \n",
    "    goals for and goals against.  Then, use .groupby to  create a separate dataframe aggregating by away team the \n",
    "    variables for count, away wins, goals for and goals against. Rename the variables to denote whether they are \n",
    "    aggregates for home team or away team.\n",
    "\n",
    "    4- Then merge the home and away dataframes.\n",
    "\n",
    "    5- Sum the values of home and away wins, games, goals for and goals against, then create \n",
    "    the values for win percentage (wpc) and the Pythagorean expectation (pyth). \n",
    "\n",
    "    6- Now repeat steps 4-6 for the 2018 games. Be sure to give different names for wpc and pyth in 2017 and 2018.\n",
    "\n",
    "    7- Now merge 2017 and 2018 summary files.\n",
    "\n",
    "    8- Now generate a correlation matrix for the wpc and pyth variables for 2017 and 2018"
   ]
  },
  {
   "cell_type": "markdown",
   "metadata": {},
   "source": [
    "## Step 1"
   ]
  },
  {
   "cell_type": "code",
   "execution_count": 3,
   "metadata": {},
   "outputs": [],
   "source": [
    "# Load the packages\n",
    "\n",
    "\n",
    "import pandas as pd\n",
    "import numpy as np\n",
    "import statsmodels.formula.api as smf\n",
    "import matplotlib.pyplot as plt\n",
    "import seaborn as sns"
   ]
  },
  {
   "cell_type": "code",
   "execution_count": 4,
   "metadata": {},
   "outputs": [
    {
     "name": "stdout",
     "output_type": "stream",
     "text": [
      "['Date', 'HomeTeam', 'AwayTeam', 'FTHG', 'FTAG', 'FTR']\n"
     ]
    }
   ],
   "source": [
    "# Load the data. \n",
    "# EPL results for the 2017/18 season\n",
    "\n",
    "EPL18 = pd.read_excel('Assignment Data/Week 1/EPL2017-18.xlsx')\n",
    "print(EPL18.columns.tolist())"
   ]
  },
  {
   "cell_type": "markdown",
   "metadata": {},
   "source": [
    "## Step 2"
   ]
  },
  {
   "cell_type": "code",
   "execution_count": null,
   "metadata": {},
   "outputs": [],
   "source": []
  },
  {
   "cell_type": "markdown",
   "metadata": {},
   "source": [
    "## Step 3"
   ]
  },
  {
   "cell_type": "code",
   "execution_count": null,
   "metadata": {
    "scrolled": true
   },
   "outputs": [],
   "source": []
  },
  {
   "cell_type": "markdown",
   "metadata": {},
   "source": [
    "## Step 4 (home team)"
   ]
  },
  {
   "cell_type": "code",
   "execution_count": null,
   "metadata": {},
   "outputs": [],
   "source": []
  },
  {
   "cell_type": "markdown",
   "metadata": {},
   "source": [
    "## Step 5 (home team)"
   ]
  },
  {
   "cell_type": "code",
   "execution_count": null,
   "metadata": {
    "scrolled": true
   },
   "outputs": [],
   "source": []
  },
  {
   "cell_type": "markdown",
   "metadata": {},
   "source": [
    "## Step 6 (home team)"
   ]
  },
  {
   "cell_type": "code",
   "execution_count": null,
   "metadata": {},
   "outputs": [],
   "source": []
  },
  {
   "cell_type": "markdown",
   "metadata": {},
   "source": [
    "## Optional steps, not required for Assessment \n",
    "### (Uncomment to run)"
   ]
  },
  {
   "cell_type": "code",
   "execution_count": null,
   "metadata": {},
   "outputs": [],
   "source": [
    "# Plot the data\n",
    "\n",
    "#sns.relplot(x=\"pyth17\", y=\"wpc17\", data =EPL17)"
   ]
  },
  {
   "cell_type": "code",
   "execution_count": null,
   "metadata": {},
   "outputs": [],
   "source": [
    "# Run the regression\n",
    "\n",
    "#pyth_lm = smf.ols(formula = 'wpc17 ~ pyth17', data=EPL17).fit()\n",
    "#pyth_lm.summary()"
   ]
  },
  {
   "cell_type": "markdown",
   "metadata": {},
   "source": [
    "## Step 7 (=Step 4 (away team))"
   ]
  },
  {
   "cell_type": "code",
   "execution_count": null,
   "metadata": {},
   "outputs": [],
   "source": []
  },
  {
   "cell_type": "markdown",
   "metadata": {},
   "source": [
    "## Step 7 (=Step 5 (away team))"
   ]
  },
  {
   "cell_type": "code",
   "execution_count": null,
   "metadata": {},
   "outputs": [],
   "source": []
  },
  {
   "cell_type": "markdown",
   "metadata": {},
   "source": [
    "## Step 7 (=Step 6 (away team))"
   ]
  },
  {
   "cell_type": "code",
   "execution_count": null,
   "metadata": {},
   "outputs": [],
   "source": []
  },
  {
   "cell_type": "markdown",
   "metadata": {},
   "source": [
    "## Optional steps, not required for Assessment\n",
    "### (Uncomment to run)"
   ]
  },
  {
   "cell_type": "code",
   "execution_count": null,
   "metadata": {},
   "outputs": [],
   "source": [
    "# Plot the data\n",
    "\n",
    "#sns.relplot(x=\"pyth18\", y=\"wpc18\", data =EPL2018)"
   ]
  },
  {
   "cell_type": "code",
   "execution_count": null,
   "metadata": {},
   "outputs": [],
   "source": [
    "# Run the regression\n",
    "\n",
    "#pyth_lm = smf.ols(formula = 'wpc18 ~ pyth18', data=EPL2018).fit()\n",
    "#pyth_lm.summary()"
   ]
  },
  {
   "cell_type": "markdown",
   "metadata": {},
   "source": [
    "## Step 8"
   ]
  },
  {
   "cell_type": "code",
   "execution_count": null,
   "metadata": {},
   "outputs": [],
   "source": []
  },
  {
   "cell_type": "markdown",
   "metadata": {},
   "source": [
    "## Step 9"
   ]
  },
  {
   "cell_type": "code",
   "execution_count": null,
   "metadata": {},
   "outputs": [],
   "source": []
  },
  {
   "cell_type": "markdown",
   "metadata": {},
   "source": [
    "## Optional steps, not required for Assessment\n",
    "### (Uncomment to run)"
   ]
  },
  {
   "cell_type": "code",
   "execution_count": null,
   "metadata": {},
   "outputs": [],
   "source": [
    "#sns.relplot(x=\"pyth17\", y=\"wpc18\", data =Half2predictor)"
   ]
  },
  {
   "cell_type": "code",
   "execution_count": null,
   "metadata": {},
   "outputs": [],
   "source": [
    "#sns.relplot(x=\"wpc17\", y=\"wpc18\", data =Half2predictor)"
   ]
  },
  {
   "cell_type": "markdown",
   "metadata": {},
   "source": [
    "Now you have completed the assignment, are these results consistent with those we found for Major League Baseball?"
   ]
  }
 ],
 "metadata": {
  "kernelspec": {
   "display_name": "Python 3",
   "language": "python",
   "name": "python3"
  },
  "language_info": {
   "codemirror_mode": {
    "name": "ipython",
    "version": 3
   },
   "file_extension": ".py",
   "mimetype": "text/x-python",
   "name": "python",
   "nbconvert_exporter": "python",
   "pygments_lexer": "ipython3",
   "version": "3.6.7"
  }
 },
 "nbformat": 4,
 "nbformat_minor": 2
}
